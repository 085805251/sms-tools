{
 "metadata": {
  "name": ""
 },
 "nbformat": 3,
 "nbformat_minor": 0,
 "worksheets": [
  {
   "cells": [
    {
     "cell_type": "markdown",
     "metadata": {},
     "source": [
      "#Control Flow, Functions and Classes\n",
      "The control flow statements and functions help you to design a program that can be run repeatedly with different inputs.\n",
      "Classes help you to modularize your code by bringing together the variables and methods which should orchestrate together.\n",
      "\n",
      "##Control flow statements\n",
      "The control flow in a python program, like most other programming languages, is determined by evaluating conditions and running through the loops. \n",
      "We go through the basics of the _if, else, then_ statements, and _for, while_ loops."
     ]
    },
    {
     "cell_type": "code",
     "collapsed": false,
     "input": [
      "c = [42, 'music', 'cricket', 'football']\n",
      "#c = 'aa bb cc'\n",
      "\n",
      "if isinstance(c, list):\n",
      "    print \"c is a list!\"\n",
      "else:\n",
      "    print \"c is a\", type(c)"
     ],
     "language": "python",
     "metadata": {},
     "outputs": [
      {
       "output_type": "stream",
       "stream": "stdout",
       "text": [
        "c is a list!\n"
       ]
      }
     ],
     "prompt_number": 4
    },
    {
     "cell_type": "markdown",
     "metadata": {},
     "source": [
      "Notice that **indentation** is a hidden factor that plays the most important role in determining the flow of the program.\n",
      "To learn more about indentation, you may want to read [this](http://www.diveintopython.net/getting_to_know_python/indenting_code.html).\n",
      "Notice that IPython notebook automatically indents your code for most part. It uses four spaces for each indent.\n",
      "\n",
      "In the above code snippet, I've used a simple _if, else_ combination to execute one or the other statement based on a condition. \n",
      "We can even add more conditions to be checked in case the first condition fails. We do this with an additional keyword **elif**.\n",
      "Below is an example:"
     ]
    },
    {
     "cell_type": "code",
     "collapsed": false,
     "input": [
      "if \"music\" not in c:\n",
      "    print \"That's attrocious!\"\n",
      "elif 42 not in c:\n",
      "    print \"May Justin Bieber save you!\"\n",
      "else:\n",
      "    print \"You are a complete human being, congratulations!\""
     ],
     "language": "python",
     "metadata": {},
     "outputs": [
      {
       "output_type": "stream",
       "stream": "stdout",
       "text": [
        "You are a complete human being, congratulations!\n"
       ]
      }
     ],
     "prompt_number": 6
    },
    {
     "cell_type": "markdown",
     "metadata": {},
     "source": [
      "The loops in python are executed in two ways: using a _for_ or a _while_. There are a number of ways to iterate over lists, tuples, \n",
      "dictionaries and sets. Here, I give examples using a few of them."
     ]
    },
    {
     "cell_type": "code",
     "collapsed": false,
     "input": [
      "print \"Method 1 to iterate on a list using a for loop:\"\n",
      "\n",
      "for element in c:\n",
      "    print element\n",
      "\n",
      "print \"\\n\\nMethod 2 to iterate on a list using a for loop:\"\n",
      "\n",
      "for i in xrange(len(c)):\n",
      "    print c[i]"
     ],
     "language": "python",
     "metadata": {},
     "outputs": [
      {
       "output_type": "stream",
       "stream": "stdout",
       "text": [
        "Method 1 to iterate on a list using a for loop:\n",
        "42\n",
        "music\n",
        "cricket\n",
        "football\n",
        "\n",
        "\n",
        "Method 2 to iterate on a list using a for loop:\n",
        "42\n",
        "music\n",
        "cricket\n",
        "football\n"
       ]
      }
     ],
     "prompt_number": 9
    },
    {
     "cell_type": "markdown",
     "metadata": {},
     "source": [
      "In the first method, the list itself is used to generate an iterator object that will return an element for every loop. Indeed, \n",
      "it just calls c.\\_\\_iter\\_\\_() function. In the second method, we use **xrange**, an inbuilt function, to generate an iterator over numbers\n",
      "starting from zero to the length of c. Use help to know more about xrange. You'll be using it a lot!!\n",
      "\n",
      "Now, let's see a couple of examples with _while_ loop."
     ]
    },
    {
     "cell_type": "code",
     "collapsed": false,
     "input": [
      "i = 0\n",
      "while i < len(c):\n",
      "        print c[i]\n",
      "        i += 1"
     ],
     "language": "python",
     "metadata": {},
     "outputs": [
      {
       "output_type": "stream",
       "stream": "stdout",
       "text": [
        "42\n",
        "music\n",
        "cricket\n",
        "football\n"
       ]
      }
     ],
     "prompt_number": 18
    },
    {
     "cell_type": "markdown",
     "metadata": {},
     "source": [
      "In this example, there is no iterator object involved for looping. However, we do place a check not to end up with an index error. \n",
      "To realize this, you can try replacing the condition in the loop with just the keyword **True** and see what happens. \n",
      "\n",
      "**Tip:** Once you try that, you'll realize that python throws some error. What can you do to handle that? I recommend reading \n",
      "[this](http://docs.python.org/2/tutorial/errors.html) to know more about error handling. An example of this, is given below."
     ]
    },
    {
     "cell_type": "code",
     "collapsed": false,
     "input": [
      "i = 0\n",
      "while True:\n",
      "    try:\n",
      "        print c[i]\n",
      "        i += 1\n",
      "    except IndexError:\n",
      "        print \"\\nAt the end of the list. exiting now!\"\n",
      "        break"
     ],
     "language": "python",
     "metadata": {},
     "outputs": [
      {
       "output_type": "stream",
       "stream": "stdout",
       "text": [
        "42\n",
        "music\n",
        "cricket\n",
        "football\n",
        "\n",
        "At the end of the list. exiting now!\n"
       ]
      }
     ],
     "prompt_number": 20
    },
    {
     "cell_type": "markdown",
     "metadata": {},
     "source": [
      "##Functions and Classes\n",
      "Of course, apart from playing around in the workspace, we also want to have some code which we can call repeatedly with some arguments.\n",
      "Functions allow us to have this facility. Python functions are defined using the below syntax:\n",
      "\n",
      "**def** name_of_the_function(argument1, argument2='default value'):\n",
      "\n",
      "Given below is an example. It has two arguments. One of them must be passed when calling the function, \n",
      "the other one is an optional argument which has a default value when it is not specified. The functions just adds them and returns the result."
     ]
    },
    {
     "cell_type": "code",
     "collapsed": false,
     "input": [
      "def my_function(arg1, arg2=\"Garcia\"):\n",
      "    \"\"\"\n",
      "    This is the documentation that will be printed if you call help(my_function)\n",
      "    \"\"\"\n",
      "    return arg1+\" \"+arg2"
     ],
     "language": "python",
     "metadata": {},
     "outputs": [],
     "prompt_number": 25
    },
    {
     "cell_type": "markdown",
     "metadata": {},
     "source": [
      "Now let's try calling the function with different combinations of arguments and see what happens:"
     ]
    },
    {
     "cell_type": "code",
     "collapsed": false,
     "input": [
      "my_function()"
     ],
     "language": "python",
     "metadata": {},
     "outputs": [
      {
       "ename": "TypeError",
       "evalue": "my_function() takes at least 1 argument (0 given)",
       "output_type": "pyerr",
       "traceback": [
        "\u001b[1;31m---------------------------------------------------------------------------\u001b[0m\n\u001b[1;31mTypeError\u001b[0m                                 Traceback (most recent call last)",
        "\u001b[1;32m<ipython-input-29-aa249835c95b>\u001b[0m in \u001b[0;36m<module>\u001b[1;34m()\u001b[0m\n\u001b[1;32m----> 1\u001b[1;33m \u001b[0mmy_function\u001b[0m\u001b[1;33m(\u001b[0m\u001b[1;33m)\u001b[0m\u001b[1;33m\u001b[0m\u001b[0m\n\u001b[0m",
        "\u001b[1;31mTypeError\u001b[0m: my_function() takes at least 1 argument (0 given)"
       ]
      }
     ],
     "prompt_number": 29
    },
    {
     "cell_type": "code",
     "collapsed": false,
     "input": [
      "my_function(\"Jordi\")"
     ],
     "language": "python",
     "metadata": {},
     "outputs": [
      {
       "metadata": {},
       "output_type": "pyout",
       "prompt_number": 26,
       "text": [
        "'Jordi Garcia'"
       ]
      }
     ],
     "prompt_number": 26
    },
    {
     "cell_type": "code",
     "collapsed": false,
     "input": [
      "my_function(\"Jordi\", \"Gaudi\")"
     ],
     "language": "python",
     "metadata": {},
     "outputs": [
      {
       "metadata": {},
       "output_type": "pyout",
       "prompt_number": 28,
       "text": [
        "'Jordi Gaudi'"
       ]
      }
     ],
     "prompt_number": 28
    },
    {
     "cell_type": "markdown",
     "metadata": {},
     "source": [
      "The best practise is to mention the argument names, even though it's not necessary to do so. It makes the code much easier to read!\n",
      "If you want to specify argument names for only a few arguments and not all, remember to keep the named ones towards the end. \n",
      "To understand this, let's run an example."
     ]
    },
    {
     "cell_type": "code",
     "collapsed": false,
     "input": [
      "my_function(arg1='Jordi', 'Gaudi')"
     ],
     "language": "python",
     "metadata": {},
     "outputs": [
      {
       "ename": "SyntaxError",
       "evalue": "non-keyword arg after keyword arg (<ipython-input-33-5adac040dc66>, line 1)",
       "output_type": "pyerr",
       "traceback": [
        "\u001b[1;36m  File \u001b[1;32m\"<ipython-input-33-5adac040dc66>\"\u001b[1;36m, line \u001b[1;32m1\u001b[0m\n\u001b[1;33m    my_function(arg1='Jordi', 'Gaudi')\u001b[0m\n\u001b[1;31mSyntaxError\u001b[0m\u001b[1;31m:\u001b[0m non-keyword arg after keyword arg\n"
       ]
      }
     ],
     "prompt_number": 33
    },
    {
     "cell_type": "code",
     "collapsed": false,
     "input": [
      "my_function('Jordi', arg2='Gaudi')"
     ],
     "language": "python",
     "metadata": {},
     "outputs": [
      {
       "metadata": {},
       "output_type": "pyout",
       "prompt_number": 35,
       "text": [
        "'Jordi Gaudi'"
       ]
      }
     ],
     "prompt_number": 35
    },
    {
     "cell_type": "markdown",
     "metadata": {},
     "source": [
      "**Tip:** Did you check **help**(my_function)?\n",
      "\n",
      "Classes can be understood as some abstractions of real life objects. For example, an audiofile, a person or an airport can be a class. \n",
      "The only caveat is that there must be some meaningful operations over the object that belong together. Let's take an example of an audiofile class."
     ]
    },
    {
     "cell_type": "code",
     "collapsed": false,
     "input": [
      "from os.path import exists\n",
      "from numpy import loadtxt\n",
      "from scipy.io import wavfile\n",
      "\n",
      "class AudioFile:\n",
      "    \"\"\"\n",
      "    A class containing methods to process an audio file.\n",
      "    \"\"\"\n",
      "    def __init__(self, path):\n",
      "        self.path = path\n",
      "        self.sample_rate = None\n",
      "        self.audio = None\n",
      "        self.pitch = None\n",
      "        \n",
      "    def load(self):\n",
      "        \"\"\"\n",
      "        Loads the data from an audio file\n",
      "        \"\"\"\n",
      "        if not exists(self.path):\n",
      "            raise IOError\n",
      "        self.sample_rate, self.audio = wavfile.read(self.path)\n",
      "    \n",
      "    def compute_pitch(self):\n",
      "        \"\"\"\n",
      "        Compute the fundamental pitch for each frame of the given audio\n",
      "        \"\"\"\n",
      "        self.pitch = None\n",
      "        #sorry, I'm not doing it!"
     ],
     "language": "python",
     "metadata": {},
     "outputs": [],
     "prompt_number": 38
    },
    {
     "cell_type": "markdown",
     "metadata": {},
     "source": [
      "The class has an \\_\\_init\\_\\_ function that sets up the properties (variable) of an object when it is created. \n",
      "It has several methods that operate on the object. In the case of an audiofile, they concern loading the audio data from a file,\n",
      "computing pitch etc. The following block of code, creates an instance of the AudioFile class, and calls the functions defined on it."
     ]
    },
    {
     "cell_type": "code",
     "collapsed": false,
     "input": [
      "f1 = AudioFile('/home/gopal/01_Evarani.wav')\n",
      "print f1.path\n",
      "\n",
      "f1.load()\n",
      "print f1.sample_rate\n",
      "plot(f1.audio[:44100*2, 0])"
     ],
     "language": "python",
     "metadata": {},
     "outputs": [
      {
       "output_type": "stream",
       "stream": "stdout",
       "text": [
        "<type 'instance'>\n",
        "/home/gopal/01_Evarani.wav\n",
        "44100\n"
       ]
      },
      {
       "metadata": {},
       "output_type": "pyout",
       "prompt_number": 43,
       "text": [
        "[<matplotlib.lines.Line2D at 0x4505390>]"
       ]
      },
      {
       "metadata": {},
       "output_type": "display_data",
       "png": "[encoded data removed]",
       "text": [
        "<matplotlib.figure.Figure at 0x4507210>"
       ]
      }
     ],
     "prompt_number": 43
    },
    {
     "cell_type": "markdown",
     "metadata": {},
     "source": []
    }
   ],
   "metadata": {}
  }
 ]
}