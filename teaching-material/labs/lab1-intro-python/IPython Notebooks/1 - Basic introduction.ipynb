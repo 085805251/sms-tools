{
 "metadata": {
  "name": ""
 },
 "nbformat": 3,
 "nbformat_minor": 0,
 "worksheets": [
  {
   "cells": [
    {
     "cell_type": "heading",
     "level": 1,
     "metadata": {},
     "source": [
      "Basic introduction to python programming"
     ]
    },
    {
     "cell_type": "markdown",
     "metadata": {},
     "source": [
      "**Note 1:** If you did not follow the instructions from the *Seminar-I report*\n",
      "on setting up python, please do it before following this hands-on tutorial.\n",
      "\n",
      "**Note 2:** If you are not sure how to use an IPython Notebook, please open the notebook titled, \n",
      "'Using IPython Notebook' and play around with it before continuing here."
     ]
    },
    {
     "cell_type": "markdown",
     "metadata": {},
     "source": [
      "##Objects and methods\n",
      "In python, everything is an object, which can refer to a data type, a data structure or a class.\n",
      "Every object has a set of methods defined for it. For example, a string is a particular data type (and a class), and hence an object.\n",
      "Let's define a string, and see what methods are available to be called on it."
     ]
    },
    {
     "cell_type": "code",
     "collapsed": false,
     "input": [
      "name = 'Antoni Gaudi'\n",
      "print dir(name) #you can also just say dir(name), 'print' prints the output compactly"
     ],
     "language": "python",
     "metadata": {},
     "outputs": [
      {
       "output_type": "stream",
       "stream": "stdout",
       "text": [
        "['__add__', '__class__', '__contains__', '__delattr__', '__doc__', '__eq__', '__format__', '__ge__', '__getattribute__', '__getitem__', '__getnewargs__', '__getslice__', '__gt__', '__hash__', '__init__', '__le__', '__len__', '__lt__', '__mod__', '__mul__', '__ne__', '__new__', '__reduce__', '__reduce_ex__', '__repr__', '__rmod__', '__rmul__', '__setattr__', '__sizeof__', '__str__', '__subclasshook__', '_formatter_field_name_split', '_formatter_parser', 'capitalize', 'center', 'count', 'decode', 'encode', 'endswith', 'expandtabs', 'find', 'format', 'index', 'isalnum', 'isalpha', 'isdigit', 'islower', 'isspace', 'istitle', 'isupper', 'join', 'ljust', 'lower', 'lstrip', 'partition', 'replace', 'rfind', 'rindex', 'rjust', 'rpartition', 'rsplit', 'rstrip', 'split', 'splitlines', 'startswith', 'strip', 'swapcase', 'title', 'translate', 'upper', 'zfill']\n"
       ]
      }
     ],
     "prompt_number": 11
    },
    {
     "cell_type": "markdown",
     "metadata": {},
     "source": [
      "Notice that I used an inbuilt function called **dir** to display the methods defined on our object.\n",
      "The  object variable 'name' that we defined here is an instantiation of the string class. \n",
      "Basically, anything you put inside the quotes becomes a string. There are three kinds of quotes in python, \n",
      "learn more [here](http://stackoverflow.com/a/56190/464476).\n",
      "Therefore, our 'name' variable inherits all the methods/functions defined in the string class. \n",
      "The methods which are surrounded by \\_\\_ are private methods of the string class and the rest are public methods. \n",
      "Let's try out one of them on our string, say **split**."
     ]
    },
    {
     "cell_type": "code",
     "collapsed": false,
     "input": [
      "parts = name.split()\n",
      "print type(parts), parts"
     ],
     "language": "python",
     "metadata": {},
     "outputs": [
      {
       "output_type": "stream",
       "stream": "stdout",
       "text": [
        "<type 'list'> ['Antoni', 'Gaudi']\n"
       ]
      }
     ],
     "prompt_number": 13
    },
    {
     "cell_type": "markdown",
     "metadata": {},
     "source": [
      "Notice that I used the inbuilt **type** function to see what data type is returned, and I also printed the actual result. Hey, but wait a second! \n",
      "Is it possible to know in advance what the **split** function does? For sure! We can just call **help** inbuilt function!\n",
      "\n",
      "**Tip:** In IPython notebook, if you type an object followed by dot and press a tab (eg: 'name.< tab >'), you'll get a list of functions defined on it, \n",
      "and you can select from them!"
     ]
    },
    {
     "cell_type": "code",
     "collapsed": false,
     "input": [
      "help(name.split)"
     ],
     "language": "python",
     "metadata": {},
     "outputs": [
      {
       "output_type": "stream",
       "stream": "stdout",
       "text": [
        "Help on built-in function split:\n",
        "\n",
        "split(...)\n",
        "    S.split([sep [,maxsplit]]) -> list of strings\n",
        "    \n",
        "    Return a list of the words in the string S, using sep as the\n",
        "    delimiter string.  If maxsplit is given, at most maxsplit\n",
        "    splits are done. If sep is not specified or is None, any\n",
        "    whitespace string is a separator and empty strings are removed\n",
        "    from the result.\n",
        "\n"
       ]
      }
     ],
     "prompt_number": 14
    },
    {
     "cell_type": "markdown",
     "metadata": {},
     "source": [
      "The **help** function returns some useful information saying that the split method returns a **list** of words. \n",
      "It also says that the method can take an argument which it uses as a delimiter.\n",
      "\n",
      "**Exercise**: What happens if you use the letter 'o' as a delimiter? Try it!"
     ]
    },
    {
     "cell_type": "markdown",
     "metadata": {},
     "source": [
      "##Data types & basics of data structures\n",
      "We have just seen a couple of data types: string and list. There are many other data types in python: integers, floats, tuples, dictionaries and sets. \n",
      "Lets learn a bit more about these basic data types: how to define and use them."
     ]
    },
    {
     "cell_type": "markdown",
     "metadata": {},
     "source": [
      "###Integers, floats and strings"
     ]
    },
    {
     "cell_type": "code",
     "collapsed": false,
     "input": [
      "a = 42\n",
      "a = a + 1 #You can also say a += 1\n",
      "print a\n",
      "a -= 2\n",
      "print a"
     ],
     "language": "python",
     "metadata": {},
     "outputs": [
      {
       "output_type": "stream",
       "stream": "stdout",
       "text": [
        "43\n",
        "41\n",
        "Antoni Gaudi\n"
       ]
      }
     ],
     "prompt_number": 17
    },
    {
     "cell_type": "markdown",
     "metadata": {},
     "source": [
      "**Important:** Division in python 2 is different from the division in python 3. In python 2, the default division operation returns a rounded off \n",
      "integer as quotient. For example, let's see what happens if I divide the variable 'a' by 8."
     ]
    },
    {
     "cell_type": "code",
     "collapsed": false,
     "input": [
      "print a/8"
     ],
     "language": "python",
     "metadata": {},
     "outputs": [
      {
       "output_type": "stream",
       "stream": "stdout",
       "text": [
        "5\n"
       ]
      }
     ],
     "prompt_number": 24
    },
    {
     "cell_type": "markdown",
     "metadata": {},
     "source": [
      "Isn't that outragious? Yes. To get a proper floating point number as the quotient, there are two ways:\n",
      "\n",
      "1. We need to transform one of them to floats. \n",
      "2. We can use this import statement in the beginning of our session and it makes python 2 division behave properly: **from \\_\\_future\\_\\_ import division**. I'll tell you more about import statements later in the tutorial."
     ]
    },
    {
     "cell_type": "code",
     "collapsed": false,
     "input": [
      "print a/float(8)"
     ],
     "language": "python",
     "metadata": {},
     "outputs": [
      {
       "output_type": "stream",
       "stream": "stdout",
       "text": [
        "5.125\n"
       ]
      }
     ],
     "prompt_number": 25
    },
    {
     "cell_type": "code",
     "collapsed": false,
     "input": [
      "from __future__ import division\n",
      "#Here as well, you can use tab key to complete both __future__ and division while you are typing them\n",
      "\n",
      "print a/8"
     ],
     "language": "python",
     "metadata": {},
     "outputs": [
      {
       "output_type": "stream",
       "stream": "stdout",
       "text": [
        "5.125\n"
       ]
      }
     ],
     "prompt_number": 27
    },
    {
     "cell_type": "code",
     "collapsed": false,
     "input": [
      "b = \"Antoni\"\n",
      "b += \" Gaudi\"\n",
      "print b"
     ],
     "language": "python",
     "metadata": {},
     "outputs": []
    },
    {
     "cell_type": "markdown",
     "metadata": {},
     "source": [
      "Addition operation on string objects in overloaded to concatenate them. \n",
      "\n",
      "**Exercise:** Try to 'add' a and b, which are integer and string respectively.\n",
      "\n",
      "**Tip:** You can typecast integer to make it a string and then add!"
     ]
    },
    {
     "cell_type": "markdown",
     "metadata": {},
     "source": [
      "###Lists & tuples: Indexing\n",
      "Lists are very widely used in python programs, and learning different ways to index them will save you not only several lines of code,\n",
      "but also a lot of frustration. So, pay attention and make sure you get it right!"
     ]
    },
    {
     "cell_type": "code",
     "collapsed": false,
     "input": [
      "c = [a, b]\n",
      "print dir(c)"
     ],
     "language": "python",
     "metadata": {},
     "outputs": [
      {
       "output_type": "stream",
       "stream": "stdout",
       "text": [
        "['__add__', '__class__', '__contains__', '__delattr__', '__delitem__', '__delslice__', '__doc__', '__eq__', '__format__', '__ge__', '__getattribute__', '__getitem__', '__getslice__', '__gt__', '__hash__', '__iadd__', '__imul__', '__init__', '__iter__', '__le__', '__len__', '__lt__', '__mul__', '__ne__', '__new__', '__reduce__', '__reduce_ex__', '__repr__', '__reversed__', '__rmul__', '__setattr__', '__setitem__', '__setslice__', '__sizeof__', '__str__', '__subclasshook__', 'append', 'count', 'extend', 'index', 'insert', 'pop', 'remove', 'reverse', 'sort']\n"
       ]
      }
     ],
     "prompt_number": 32
    },
    {
     "cell_type": "code",
     "collapsed": false,
     "input": [
      "c.append(41)\n",
      "print 'Number of 41s in c: ', c.count(41)"
     ],
     "language": "python",
     "metadata": {},
     "outputs": [
      {
       "output_type": "stream",
       "stream": "stdout",
       "text": [
        "Number of 41s in c:  2\n"
       ]
      }
     ],
     "prompt_number": 33
    },
    {
     "cell_type": "code",
     "collapsed": false,
     "input": [
      "#Tuples\n",
      "d = (a, b)\n",
      "print dir(d)"
     ],
     "language": "python",
     "metadata": {},
     "outputs": [
      {
       "output_type": "stream",
       "stream": "stdout",
       "text": [
        "['__add__', '__class__', '__contains__', '__delattr__', '__doc__', '__eq__', '__format__', '__ge__', '__getattribute__', '__getitem__', '__getnewargs__', '__getslice__', '__gt__', '__hash__', '__init__', '__iter__', '__le__', '__len__', '__lt__', '__mul__', '__ne__', '__new__', '__reduce__', '__reduce_ex__', '__repr__', '__rmul__', '__setattr__', '__sizeof__', '__str__', '__subclasshook__', 'count', 'index']\n"
       ]
      }
     ],
     "prompt_number": 30
    },
    {
     "cell_type": "markdown",
     "metadata": {},
     "source": [
      "Notice that I cannot append/change the **tuple** once it is defined. Hence, there are no methods defined to do this for tuple (compare the outputs of **dir** function on a list and a tuple).  Whereas I can do these operations on a **list**. \n",
      "That is the basic difference between tuples and lists. Tuples are immutable."
     ]
    },
    {
     "cell_type": "code",
     "collapsed": false,
     "input": [
      "c.extend(d)\n",
      "print c"
     ],
     "language": "python",
     "metadata": {},
     "outputs": [
      {
       "output_type": "stream",
       "stream": "stdout",
       "text": [
        "[41, 'Antoni Gaudi', 41, 41, 'Antoni Gaudi']\n"
       ]
      }
     ],
     "prompt_number": 34
    },
    {
     "cell_type": "markdown",
     "metadata": {},
     "source": [
      "Lists and similar data types in python begin with a _0_ index (this is unlike matlab,where it starts from _1_). \n",
      "The last elemet has _-1_ as the index, and the previous element _-2_,  and so on."
     ]
    },
    {
     "cell_type": "code",
     "collapsed": false,
     "input": [
      "print c[0]\n",
      "print c[-1]"
     ],
     "language": "python",
     "metadata": {},
     "outputs": [
      {
       "output_type": "stream",
       "stream": "stdout",
       "text": [
        "41\n",
        "Antoni Gaudi\n"
       ]
      }
     ],
     "prompt_number": 35
    },
    {
     "cell_type": "markdown",
     "metadata": {},
     "source": [
      "To access a part of the list is called **slicing**. We specify the start and end indices indicating the part of the list we want access to.\n",
      "Let's look at an example."
     ]
    },
    {
     "cell_type": "code",
     "collapsed": false,
     "input": [
      "print c[1:3]"
     ],
     "language": "python",
     "metadata": {},
     "outputs": [
      {
       "output_type": "stream",
       "stream": "stdout",
       "text": [
        "['Antoni Gaudi', 41]\n"
       ]
      }
     ],
     "prompt_number": 36
    },
    {
     "cell_type": "markdown",
     "metadata": {},
     "source": [
      "Notice that this slice has only two elements which correspond to c[1] and c[2]. Though we specified 3 as the last index, it is not included in the slice.\n",
      "So, when we specify the following slice:\n",
      "\n",
      "**print c[startIndex:endIndex]**\n",
      "\n",
      "only the startIndex is included in the returned slice, endIndex is not! Take a note of this! In the following example, \n",
      "we'll see what happens if we leave one of the indexes out in specifying a slice."
     ]
    },
    {
     "cell_type": "code",
     "collapsed": false,
     "input": [
      "print c\n",
      "\n",
      "print c[1:]\n",
      "#When you don't specify the endIndex for the slice, it returns from the startIndex till the last element.\n",
      "\n",
      "print c[:3]\n",
      "#When you don't specify the startIndex for the slice, it returns from the first element till, but not the element specified by endIndex."
     ],
     "language": "python",
     "metadata": {},
     "outputs": [
      {
       "output_type": "stream",
       "stream": "stdout",
       "text": [
        "[41, 'Antoni Gaudi', 41, 41, 'Antoni Gaudi']\n",
        "['Antoni Gaudi', 41, 41, 'Antoni Gaudi']\n",
        "[41, 'Antoni Gaudi', 41]\n"
       ]
      }
     ],
     "prompt_number": 39
    },
    {
     "cell_type": "markdown",
     "metadata": {},
     "source": [
      "###Dictionaries: Key-value pairs\n",
      "Another widely used data type in python is a dictionary. It is a map of key and value pairs. \n",
      "Let's learn how to define it and use it in a  number of possible ways. \n",
      "We define it using curly braces (Remember that lists are defined by square brackets, and tuples are defined by round paranthesis).\n",
      "Later, we add an entry by doing the following:\n",
      "\n",
      "myDictionary[key] = value"
     ]
    },
    {
     "cell_type": "code",
     "collapsed": false,
     "input": [
      "d = {}\n",
      "d[\"preciousList\"] = c\n",
      "print d"
     ],
     "language": "python",
     "metadata": {},
     "outputs": [
      {
       "output_type": "stream",
       "stream": "stdout",
       "text": [
        "{'preciousList': ['Antoni Gaudi', 41, 41, 'Antoni Gaudi']}\n"
       ]
      }
     ],
     "prompt_number": 51
    },
    {
     "cell_type": "code",
     "collapsed": false,
     "input": [
      "print dir(d)"
     ],
     "language": "python",
     "metadata": {},
     "outputs": [
      {
       "output_type": "stream",
       "stream": "stdout",
       "text": [
        "['__class__', '__cmp__', '__contains__', '__delattr__', '__delitem__', '__doc__', '__eq__', '__format__', '__ge__', '__getattribute__', '__getitem__', '__gt__', '__hash__', '__init__', '__iter__', '__le__', '__len__', '__lt__', '__ne__', '__new__', '__reduce__', '__reduce_ex__', '__repr__', '__setattr__', '__setitem__', '__sizeof__', '__str__', '__subclasshook__', 'clear', 'copy', 'fromkeys', 'get', 'has_key', 'items', 'iteritems', 'iterkeys', 'itervalues', 'keys', 'pop', 'popitem', 'setdefault', 'update', 'values', 'viewitems', 'viewkeys', 'viewvalues']\n"
       ]
      }
     ],
     "prompt_number": 41
    },
    {
     "cell_type": "code",
     "collapsed": false,
     "input": [
      "print 'keys of d: ', d.keys()\n",
      "print 'values of d :', d.values()\n",
      "print 'key-value pairs of d :', d.items()"
     ],
     "language": "python",
     "metadata": {},
     "outputs": [
      {
       "output_type": "stream",
       "stream": "stdout",
       "text": [
        "keys of d:  ['preciousList']\n",
        "values of d : [[41, 'Antoni Gaudi', 41, 41, 'Antoni Gaudi']]\n",
        "key-value pairs of d : [('preciousList', [41, 'Antoni Gaudi', 41, 41, 'Antoni Gaudi'])]\n"
       ]
      }
     ],
     "prompt_number": 45
    },
    {
     "cell_type": "markdown",
     "metadata": {},
     "source": [
      "Do try other methods defined for the dictionary object. See **help** for them and understand their role.\n",
      "To learn more about using python data structures, you are recommended to go through \n",
      "[official python tutorial/datastructures](http://docs.python.org/2/tutorial/datastructures.html), \n",
      "or [codeacademy section](http://www.codecademy.com/courses/python-beginner-nzzVa/0/1?curriculum_id=4f89dab3d788890003000096) on\n",
      "lists and dictionaries."
     ]
    },
    {
     "cell_type": "markdown",
     "metadata": {},
     "source": [
      "###Managing workspace\n",
      "Once you start your python interactive session, you'll keep on defining a number of variables and import a lot of modules. \n",
      "So, you may want to take control of what exists and what goes. Here are some inbuilt commands to do this stuff."
     ]
    },
    {
     "cell_type": "code",
     "collapsed": false,
     "input": [
      "whos"
     ],
     "language": "python",
     "metadata": {},
     "outputs": [
      {
       "output_type": "stream",
       "stream": "stdout",
       "text": [
        "Variable   Type                   Data/Info\n",
        "-------------------------------------------\n",
        "a          int                    41\n",
        "b          str                    Antoni Gaudi\n",
        "c          list                   n=5\n",
        "d          dict                   n=1\n",
        "division   __future__._Feature    _Feature((2, 2, 0, 'alpha<...> 0, 0, 'alpha', 0), 8192)\n",
        "name       str                    Antoni Gaudi\n",
        "parts      list                   n=2\n"
       ]
      }
     ],
     "prompt_number": 46
    },
    {
     "cell_type": "markdown",
     "metadata": {},
     "source": [
      "**whos** will list all the variables and imported modules currently accessible in the workspace, along with their types \n",
      "and also some basic information about the content. Following this, we can use the inbuilt command **del** to delete portion of an object, \n",
      "or an entire object from the workspace."
     ]
    },
    {
     "cell_type": "code",
     "collapsed": false,
     "input": [
      "print 'Before deleting zeroth index:', c\n",
      "del c[0]\n",
      "print 'After deleting zeroth index:', c"
     ],
     "language": "python",
     "metadata": {},
     "outputs": [
      {
       "output_type": "stream",
       "stream": "stdout",
       "text": [
        "Before deleting zeroth index: [41, 'Antoni Gaudi', 41, 41, 'Antoni Gaudi']\n",
        "After deleting zeroth index: ['Antoni Gaudi', 41, 41, 'Antoni Gaudi']\n"
       ]
      }
     ],
     "prompt_number": 48
    },
    {
     "cell_type": "code",
     "collapsed": false,
     "input": [
      "del name\n",
      "name"
     ],
     "language": "python",
     "metadata": {},
     "outputs": [
      {
       "ename": "NameError",
       "evalue": "name 'name' is not defined",
       "output_type": "pyerr",
       "traceback": [
        "\u001b[1;31m---------------------------------------------------------------------------\u001b[0m\n\u001b[1;31mNameError\u001b[0m                                 Traceback (most recent call last)",
        "\u001b[1;32m<ipython-input-49-83001d153d78>\u001b[0m in \u001b[0;36m<module>\u001b[1;34m()\u001b[0m\n\u001b[0;32m      1\u001b[0m \u001b[1;32mdel\u001b[0m \u001b[0mname\u001b[0m\u001b[1;33m\u001b[0m\u001b[0m\n\u001b[1;32m----> 2\u001b[1;33m \u001b[0mname\u001b[0m\u001b[1;33m\u001b[0m\u001b[0m\n\u001b[0m",
        "\u001b[1;31mNameError\u001b[0m: name 'name' is not defined"
       ]
      }
     ],
     "prompt_number": 49
    }
   ],
   "metadata": {}
  }
 ]
}